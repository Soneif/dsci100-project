{
 "cells": [
  {
   "cell_type": "code",
   "execution_count": 37,
   "metadata": {},
   "outputs": [
    {
     "name": "stderr",
     "output_type": "stream",
     "text": [
      "Warning message:\n",
      "“package ‘tidymodels’ was built under R version 4.0.2”\n",
      "── \u001b[1mAttaching packages\u001b[22m ────────────────────────────────────── tidymodels 0.1.1 ──\n",
      "\n",
      "\u001b[32m✔\u001b[39m \u001b[34mbroom    \u001b[39m 0.7.0      \u001b[32m✔\u001b[39m \u001b[34mrecipes  \u001b[39m 0.1.13\n",
      "\u001b[32m✔\u001b[39m \u001b[34mdials    \u001b[39m 0.0.9      \u001b[32m✔\u001b[39m \u001b[34mrsample  \u001b[39m 0.0.7 \n",
      "\u001b[32m✔\u001b[39m \u001b[34minfer    \u001b[39m 0.5.4      \u001b[32m✔\u001b[39m \u001b[34mtune     \u001b[39m 0.1.1 \n",
      "\u001b[32m✔\u001b[39m \u001b[34mmodeldata\u001b[39m 0.0.2      \u001b[32m✔\u001b[39m \u001b[34mworkflows\u001b[39m 0.2.0 \n",
      "\u001b[32m✔\u001b[39m \u001b[34mparsnip  \u001b[39m 0.1.3      \u001b[32m✔\u001b[39m \u001b[34myardstick\u001b[39m 0.0.7 \n",
      "\n",
      "Warning message:\n",
      "“package ‘broom’ was built under R version 4.0.2”\n",
      "Warning message:\n",
      "“package ‘dials’ was built under R version 4.0.2”\n",
      "Warning message:\n",
      "“package ‘infer’ was built under R version 4.0.3”\n",
      "Warning message:\n",
      "“package ‘modeldata’ was built under R version 4.0.1”\n",
      "Warning message:\n",
      "“package ‘parsnip’ was built under R version 4.0.2”\n",
      "Warning message:\n",
      "“package ‘recipes’ was built under R version 4.0.1”\n",
      "Warning message:\n",
      "“package ‘tune’ was built under R version 4.0.2”\n",
      "Warning message:\n",
      "“package ‘workflows’ was built under R version 4.0.2”\n",
      "Warning message:\n",
      "“package ‘yardstick’ was built under R version 4.0.2”\n",
      "── \u001b[1mConflicts\u001b[22m ───────────────────────────────────────── tidymodels_conflicts() ──\n",
      "\u001b[31m✖\u001b[39m \u001b[34mscales\u001b[39m::\u001b[32mdiscard()\u001b[39m masks \u001b[34mpurrr\u001b[39m::discard()\n",
      "\u001b[31m✖\u001b[39m \u001b[34mdplyr\u001b[39m::\u001b[32mfilter()\u001b[39m   masks \u001b[34mstats\u001b[39m::filter()\n",
      "\u001b[31m✖\u001b[39m \u001b[34mrecipes\u001b[39m::\u001b[32mfixed()\u001b[39m  masks \u001b[34mstringr\u001b[39m::fixed()\n",
      "\u001b[31m✖\u001b[39m \u001b[34mdplyr\u001b[39m::\u001b[32mlag()\u001b[39m      masks \u001b[34mstats\u001b[39m::lag()\n",
      "\u001b[31m✖\u001b[39m \u001b[34myardstick\u001b[39m::\u001b[32mspec()\u001b[39m masks \u001b[34mreadr\u001b[39m::spec()\n",
      "\u001b[31m✖\u001b[39m \u001b[34mrecipes\u001b[39m::\u001b[32mstep()\u001b[39m   masks \u001b[34mstats\u001b[39m::step()\n",
      "\n"
     ]
    }
   ],
   "source": [
    "library(tidyverse)\n",
    "library(repr)\n",
    "library(tidymodels)\n",
    "options(repr.matrix.max.rows = 6)"
   ]
  },
  {
   "cell_type": "markdown",
   "metadata": {},
   "source": [
    "## Preliminary Exploratory Data Analysis:\n",
    "1) Reading the dataset from the web into R"
   ]
  },
  {
   "cell_type": "code",
   "execution_count": 38,
   "metadata": {},
   "outputs": [
    {
     "data": {
      "text/html": [
       "<table>\n",
       "<caption>A data.frame: 6 × 14</caption>\n",
       "<thead>\n",
       "\t<tr><th></th><th scope=col>day</th><th scope=col>month</th><th scope=col>year</th><th scope=col>Temperature</th><th scope=col>RH</th><th scope=col>Ws</th><th scope=col>Rain</th><th scope=col>FFMC</th><th scope=col>DMC</th><th scope=col>DC</th><th scope=col>ISI</th><th scope=col>BUI</th><th scope=col>FWI</th><th scope=col>Classes</th></tr>\n",
       "\t<tr><th></th><th scope=col>&lt;chr&gt;</th><th scope=col>&lt;chr&gt;</th><th scope=col>&lt;chr&gt;</th><th scope=col>&lt;chr&gt;</th><th scope=col>&lt;chr&gt;</th><th scope=col>&lt;chr&gt;</th><th scope=col>&lt;chr&gt;</th><th scope=col>&lt;chr&gt;</th><th scope=col>&lt;chr&gt;</th><th scope=col>&lt;chr&gt;</th><th scope=col>&lt;chr&gt;</th><th scope=col>&lt;chr&gt;</th><th scope=col>&lt;chr&gt;</th><th scope=col>&lt;chr&gt;</th></tr>\n",
       "</thead>\n",
       "<tbody>\n",
       "\t<tr><th scope=row>1</th><td>01</td><td>06</td><td>2012</td><td>29</td><td>57</td><td>18</td><td>0   </td><td>65.7</td><td>3.4</td><td>7.6 </td><td>1.3</td><td>3.4</td><td>0.5</td><td>not fire   </td></tr>\n",
       "\t<tr><th scope=row>2</th><td>02</td><td>06</td><td>2012</td><td>29</td><td>61</td><td>13</td><td>1.3 </td><td>64.4</td><td>4.1</td><td>7.6 </td><td>1  </td><td>3.9</td><td>0.4</td><td>not fire   </td></tr>\n",
       "\t<tr><th scope=row>3</th><td>03</td><td>06</td><td>2012</td><td>26</td><td>82</td><td>22</td><td>13.1</td><td>47.1</td><td>2.5</td><td>7.1 </td><td>0.3</td><td>2.7</td><td>0.1</td><td>not fire   </td></tr>\n",
       "\t<tr><th scope=row>4</th><td>04</td><td>06</td><td>2012</td><td>25</td><td>89</td><td>13</td><td>2.5 </td><td>28.6</td><td>1.3</td><td>6.9 </td><td>0  </td><td>1.7</td><td>0  </td><td>not fire   </td></tr>\n",
       "\t<tr><th scope=row>5</th><td>05</td><td>06</td><td>2012</td><td>27</td><td>77</td><td>16</td><td>0   </td><td>64.8</td><td>3  </td><td>14.2</td><td>1.2</td><td>3.9</td><td>0.5</td><td>not fire   </td></tr>\n",
       "\t<tr><th scope=row>6</th><td>06</td><td>06</td><td>2012</td><td>31</td><td>67</td><td>14</td><td>0   </td><td>82.6</td><td>5.8</td><td>22.2</td><td>3.1</td><td>7  </td><td>2.5</td><td>fire       </td></tr>\n",
       "</tbody>\n",
       "</table>\n"
      ],
      "text/latex": [
       "A data.frame: 6 × 14\n",
       "\\begin{tabular}{r|llllllllllllll}\n",
       "  & day & month & year & Temperature & RH & Ws & Rain & FFMC & DMC & DC & ISI & BUI & FWI & Classes\\\\\n",
       "  & <chr> & <chr> & <chr> & <chr> & <chr> & <chr> & <chr> & <chr> & <chr> & <chr> & <chr> & <chr> & <chr> & <chr>\\\\\n",
       "\\hline\n",
       "\t1 & 01 & 06 & 2012 & 29 & 57 & 18 & 0    & 65.7 & 3.4 & 7.6  & 1.3 & 3.4 & 0.5 & not fire   \\\\\n",
       "\t2 & 02 & 06 & 2012 & 29 & 61 & 13 & 1.3  & 64.4 & 4.1 & 7.6  & 1   & 3.9 & 0.4 & not fire   \\\\\n",
       "\t3 & 03 & 06 & 2012 & 26 & 82 & 22 & 13.1 & 47.1 & 2.5 & 7.1  & 0.3 & 2.7 & 0.1 & not fire   \\\\\n",
       "\t4 & 04 & 06 & 2012 & 25 & 89 & 13 & 2.5  & 28.6 & 1.3 & 6.9  & 0   & 1.7 & 0   & not fire   \\\\\n",
       "\t5 & 05 & 06 & 2012 & 27 & 77 & 16 & 0    & 64.8 & 3   & 14.2 & 1.2 & 3.9 & 0.5 & not fire   \\\\\n",
       "\t6 & 06 & 06 & 2012 & 31 & 67 & 14 & 0    & 82.6 & 5.8 & 22.2 & 3.1 & 7   & 2.5 & fire       \\\\\n",
       "\\end{tabular}\n"
      ],
      "text/markdown": [
       "\n",
       "A data.frame: 6 × 14\n",
       "\n",
       "| <!--/--> | day &lt;chr&gt; | month &lt;chr&gt; | year &lt;chr&gt; | Temperature &lt;chr&gt; | RH &lt;chr&gt; | Ws &lt;chr&gt; | Rain &lt;chr&gt; | FFMC &lt;chr&gt; | DMC &lt;chr&gt; | DC &lt;chr&gt; | ISI &lt;chr&gt; | BUI &lt;chr&gt; | FWI &lt;chr&gt; | Classes &lt;chr&gt; |\n",
       "|---|---|---|---|---|---|---|---|---|---|---|---|---|---|---|\n",
       "| 1 | 01 | 06 | 2012 | 29 | 57 | 18 | 0    | 65.7 | 3.4 | 7.6  | 1.3 | 3.4 | 0.5 | not fire    |\n",
       "| 2 | 02 | 06 | 2012 | 29 | 61 | 13 | 1.3  | 64.4 | 4.1 | 7.6  | 1   | 3.9 | 0.4 | not fire    |\n",
       "| 3 | 03 | 06 | 2012 | 26 | 82 | 22 | 13.1 | 47.1 | 2.5 | 7.1  | 0.3 | 2.7 | 0.1 | not fire    |\n",
       "| 4 | 04 | 06 | 2012 | 25 | 89 | 13 | 2.5  | 28.6 | 1.3 | 6.9  | 0   | 1.7 | 0   | not fire    |\n",
       "| 5 | 05 | 06 | 2012 | 27 | 77 | 16 | 0    | 64.8 | 3   | 14.2 | 1.2 | 3.9 | 0.5 | not fire    |\n",
       "| 6 | 06 | 06 | 2012 | 31 | 67 | 14 | 0    | 82.6 | 5.8 | 22.2 | 3.1 | 7   | 2.5 | fire        |\n",
       "\n"
      ],
      "text/plain": [
       "  day month year Temperature RH Ws Rain FFMC DMC DC   ISI BUI FWI Classes    \n",
       "1 01  06    2012 29          57 18 0    65.7 3.4 7.6  1.3 3.4 0.5 not fire   \n",
       "2 02  06    2012 29          61 13 1.3  64.4 4.1 7.6  1   3.9 0.4 not fire   \n",
       "3 03  06    2012 26          82 22 13.1 47.1 2.5 7.1  0.3 2.7 0.1 not fire   \n",
       "4 04  06    2012 25          89 13 2.5  28.6 1.3 6.9  0   1.7 0   not fire   \n",
       "5 05  06    2012 27          77 16 0    64.8 3   14.2 1.2 3.9 0.5 not fire   \n",
       "6 06  06    2012 31          67 14 0    82.6 5.8 22.2 3.1 7   2.5 fire       "
      ]
     },
     "metadata": {},
     "output_type": "display_data"
    }
   ],
   "source": [
    "forest_fire_data_raw <- read.csv(\"https://archive.ics.uci.edu/ml/machine-learning-databases/00547/Algerian_forest_fires_dataset_UPDATE.csv\", skip = 1)\n",
    "head(forest_fire_data_raw) #previewing the first 6 rows of the dataset"
   ]
  },
  {
   "cell_type": "markdown",
   "metadata": {},
   "source": [
    "Here is what the column headings mean:\n",
    "* day/month/year: indicate the day/month/year that the observation was taken, respectively.\n",
    "* Temperature: Maximum Temperature on that day (Celsius)\n",
    "* RH: Realtive Humidity (%)\n",
    "* Ws: Wind Speed (km/h)\n",
    "* Rain: Total that day (mm)\n",
    "* FFMC: Fine Fuel Moisture Code Index from FWI system\n",
    "* DMC: Duff Moisture Code Index from FWI system\n",
    "* DC: Drought Code Index from FWI system\n",
    "* ISI: Initial Spread Index from FWI system\n",
    "* BUI: Buildup index from FWI system\n",
    "* FWI: Fire Weather Index\n",
    "* Classes: either \"not fire\" or \"fire\""
   ]
  },
  {
   "cell_type": "markdown",
   "metadata": {},
   "source": [
    "2) Cleaning and Wrangling the Data into a Tidy Format\n",
    "* The data is already in a tidy form as all observations are split into individual rows, each column is a single variable and each value is in a single cell.\n",
    "* However, to make the data more usable, we decided to convert some of the columns from characters to factors (Classes) and numeric values (Temperature:FWI)."
   ]
  },
  {
   "cell_type": "code",
   "execution_count": 69,
   "metadata": {},
   "outputs": [
    {
     "name": "stderr",
     "output_type": "stream",
     "text": [
      "Warning message:\n",
      "“Problem with `mutate()` input `Temperature`.\n",
      "\u001b[34mℹ\u001b[39m NAs introduced by coercion\n",
      "\u001b[34mℹ\u001b[39m Input `Temperature` is `as.numeric(Temperature, na.rm = TRUE)`.”\n",
      "Warning message in mask$eval_all_mutate(dots[[i]]):\n",
      "“NAs introduced by coercion”\n",
      "Warning message:\n",
      "“Problem with `mutate()` input `RH`.\n",
      "\u001b[34mℹ\u001b[39m NAs introduced by coercion\n",
      "\u001b[34mℹ\u001b[39m Input `RH` is `as.numeric(RH, na.rm = TRUE)`.”\n",
      "Warning message in mask$eval_all_mutate(dots[[i]]):\n",
      "“NAs introduced by coercion”\n",
      "Warning message:\n",
      "“Problem with `mutate()` input `Ws`.\n",
      "\u001b[34mℹ\u001b[39m NAs introduced by coercion\n",
      "\u001b[34mℹ\u001b[39m Input `Ws` is `as.numeric(Ws, na.rm = TRUE)`.”\n",
      "Warning message in mask$eval_all_mutate(dots[[i]]):\n",
      "“NAs introduced by coercion”\n",
      "Warning message:\n",
      "“Problem with `mutate()` input `Rain`.\n",
      "\u001b[34mℹ\u001b[39m NAs introduced by coercion\n",
      "\u001b[34mℹ\u001b[39m Input `Rain` is `as.numeric(Rain, na.rm = TRUE)`.”\n",
      "Warning message in mask$eval_all_mutate(dots[[i]]):\n",
      "“NAs introduced by coercion”\n",
      "Warning message:\n",
      "“Problem with `mutate()` input `FFMC`.\n",
      "\u001b[34mℹ\u001b[39m NAs introduced by coercion\n",
      "\u001b[34mℹ\u001b[39m Input `FFMC` is `as.numeric(FFMC, na.rm = TRUE)`.”\n",
      "Warning message in mask$eval_all_mutate(dots[[i]]):\n",
      "“NAs introduced by coercion”\n",
      "Warning message:\n",
      "“Problem with `mutate()` input `DMC`.\n",
      "\u001b[34mℹ\u001b[39m NAs introduced by coercion\n",
      "\u001b[34mℹ\u001b[39m Input `DMC` is `as.numeric(DMC, na.rm = TRUE)`.”\n",
      "Warning message in mask$eval_all_mutate(dots[[i]]):\n",
      "“NAs introduced by coercion”\n",
      "Warning message:\n",
      "“Problem with `mutate()` input `DC`.\n",
      "\u001b[34mℹ\u001b[39m NAs introduced by coercion\n",
      "\u001b[34mℹ\u001b[39m Input `DC` is `as.numeric(DC, na.rm = TRUE)`.”\n",
      "Warning message in mask$eval_all_mutate(dots[[i]]):\n",
      "“NAs introduced by coercion”\n",
      "Warning message:\n",
      "“Problem with `mutate()` input `ISI`.\n",
      "\u001b[34mℹ\u001b[39m NAs introduced by coercion\n",
      "\u001b[34mℹ\u001b[39m Input `ISI` is `as.numeric(ISI, na.rm = TRUE)`.”\n",
      "Warning message in mask$eval_all_mutate(dots[[i]]):\n",
      "“NAs introduced by coercion”\n",
      "Warning message:\n",
      "“Problem with `mutate()` input `BUI`.\n",
      "\u001b[34mℹ\u001b[39m NAs introduced by coercion\n",
      "\u001b[34mℹ\u001b[39m Input `BUI` is `as.numeric(BUI, na.rm = TRUE)`.”\n",
      "Warning message in mask$eval_all_mutate(dots[[i]]):\n",
      "“NAs introduced by coercion”\n",
      "Warning message:\n",
      "“Problem with `mutate()` input `FWI`.\n",
      "\u001b[34mℹ\u001b[39m NAs introduced by coercion\n",
      "\u001b[34mℹ\u001b[39m Input `FWI` is `as.numeric(FWI, na.rm = TRUE)`.”\n",
      "Warning message in mask$eval_all_mutate(dots[[i]]):\n",
      "“NAs introduced by coercion”\n"
     ]
    },
    {
     "data": {
      "text/html": [
       "<table>\n",
       "<caption>A data.frame: 6 × 14</caption>\n",
       "<thead>\n",
       "\t<tr><th></th><th scope=col>day</th><th scope=col>month</th><th scope=col>year</th><th scope=col>Temperature</th><th scope=col>RH</th><th scope=col>Ws</th><th scope=col>Rain</th><th scope=col>FFMC</th><th scope=col>DMC</th><th scope=col>DC</th><th scope=col>ISI</th><th scope=col>BUI</th><th scope=col>FWI</th><th scope=col>Classes</th></tr>\n",
       "\t<tr><th></th><th scope=col>&lt;chr&gt;</th><th scope=col>&lt;chr&gt;</th><th scope=col>&lt;chr&gt;</th><th scope=col>&lt;dbl&gt;</th><th scope=col>&lt;dbl&gt;</th><th scope=col>&lt;dbl&gt;</th><th scope=col>&lt;dbl&gt;</th><th scope=col>&lt;dbl&gt;</th><th scope=col>&lt;dbl&gt;</th><th scope=col>&lt;dbl&gt;</th><th scope=col>&lt;dbl&gt;</th><th scope=col>&lt;dbl&gt;</th><th scope=col>&lt;dbl&gt;</th><th scope=col>&lt;fct&gt;</th></tr>\n",
       "</thead>\n",
       "<tbody>\n",
       "\t<tr><th scope=row>1</th><td>01</td><td>06</td><td>2012</td><td>29</td><td>57</td><td>18</td><td> 0.0</td><td>65.7</td><td>3.4</td><td> 7.6</td><td>1.3</td><td>3.4</td><td>0.5</td><td>not fire   </td></tr>\n",
       "\t<tr><th scope=row>2</th><td>02</td><td>06</td><td>2012</td><td>29</td><td>61</td><td>13</td><td> 1.3</td><td>64.4</td><td>4.1</td><td> 7.6</td><td>1.0</td><td>3.9</td><td>0.4</td><td>not fire   </td></tr>\n",
       "\t<tr><th scope=row>3</th><td>03</td><td>06</td><td>2012</td><td>26</td><td>82</td><td>22</td><td>13.1</td><td>47.1</td><td>2.5</td><td> 7.1</td><td>0.3</td><td>2.7</td><td>0.1</td><td>not fire   </td></tr>\n",
       "\t<tr><th scope=row>4</th><td>04</td><td>06</td><td>2012</td><td>25</td><td>89</td><td>13</td><td> 2.5</td><td>28.6</td><td>1.3</td><td> 6.9</td><td>0.0</td><td>1.7</td><td>0.0</td><td>not fire   </td></tr>\n",
       "\t<tr><th scope=row>5</th><td>05</td><td>06</td><td>2012</td><td>27</td><td>77</td><td>16</td><td> 0.0</td><td>64.8</td><td>3.0</td><td>14.2</td><td>1.2</td><td>3.9</td><td>0.5</td><td>not fire   </td></tr>\n",
       "\t<tr><th scope=row>6</th><td>06</td><td>06</td><td>2012</td><td>31</td><td>67</td><td>14</td><td> 0.0</td><td>82.6</td><td>5.8</td><td>22.2</td><td>3.1</td><td>7.0</td><td>2.5</td><td>fire       </td></tr>\n",
       "</tbody>\n",
       "</table>\n"
      ],
      "text/latex": [
       "A data.frame: 6 × 14\n",
       "\\begin{tabular}{r|llllllllllllll}\n",
       "  & day & month & year & Temperature & RH & Ws & Rain & FFMC & DMC & DC & ISI & BUI & FWI & Classes\\\\\n",
       "  & <chr> & <chr> & <chr> & <dbl> & <dbl> & <dbl> & <dbl> & <dbl> & <dbl> & <dbl> & <dbl> & <dbl> & <dbl> & <fct>\\\\\n",
       "\\hline\n",
       "\t1 & 01 & 06 & 2012 & 29 & 57 & 18 &  0.0 & 65.7 & 3.4 &  7.6 & 1.3 & 3.4 & 0.5 & not fire   \\\\\n",
       "\t2 & 02 & 06 & 2012 & 29 & 61 & 13 &  1.3 & 64.4 & 4.1 &  7.6 & 1.0 & 3.9 & 0.4 & not fire   \\\\\n",
       "\t3 & 03 & 06 & 2012 & 26 & 82 & 22 & 13.1 & 47.1 & 2.5 &  7.1 & 0.3 & 2.7 & 0.1 & not fire   \\\\\n",
       "\t4 & 04 & 06 & 2012 & 25 & 89 & 13 &  2.5 & 28.6 & 1.3 &  6.9 & 0.0 & 1.7 & 0.0 & not fire   \\\\\n",
       "\t5 & 05 & 06 & 2012 & 27 & 77 & 16 &  0.0 & 64.8 & 3.0 & 14.2 & 1.2 & 3.9 & 0.5 & not fire   \\\\\n",
       "\t6 & 06 & 06 & 2012 & 31 & 67 & 14 &  0.0 & 82.6 & 5.8 & 22.2 & 3.1 & 7.0 & 2.5 & fire       \\\\\n",
       "\\end{tabular}\n"
      ],
      "text/markdown": [
       "\n",
       "A data.frame: 6 × 14\n",
       "\n",
       "| <!--/--> | day &lt;chr&gt; | month &lt;chr&gt; | year &lt;chr&gt; | Temperature &lt;dbl&gt; | RH &lt;dbl&gt; | Ws &lt;dbl&gt; | Rain &lt;dbl&gt; | FFMC &lt;dbl&gt; | DMC &lt;dbl&gt; | DC &lt;dbl&gt; | ISI &lt;dbl&gt; | BUI &lt;dbl&gt; | FWI &lt;dbl&gt; | Classes &lt;fct&gt; |\n",
       "|---|---|---|---|---|---|---|---|---|---|---|---|---|---|---|\n",
       "| 1 | 01 | 06 | 2012 | 29 | 57 | 18 |  0.0 | 65.7 | 3.4 |  7.6 | 1.3 | 3.4 | 0.5 | not fire    |\n",
       "| 2 | 02 | 06 | 2012 | 29 | 61 | 13 |  1.3 | 64.4 | 4.1 |  7.6 | 1.0 | 3.9 | 0.4 | not fire    |\n",
       "| 3 | 03 | 06 | 2012 | 26 | 82 | 22 | 13.1 | 47.1 | 2.5 |  7.1 | 0.3 | 2.7 | 0.1 | not fire    |\n",
       "| 4 | 04 | 06 | 2012 | 25 | 89 | 13 |  2.5 | 28.6 | 1.3 |  6.9 | 0.0 | 1.7 | 0.0 | not fire    |\n",
       "| 5 | 05 | 06 | 2012 | 27 | 77 | 16 |  0.0 | 64.8 | 3.0 | 14.2 | 1.2 | 3.9 | 0.5 | not fire    |\n",
       "| 6 | 06 | 06 | 2012 | 31 | 67 | 14 |  0.0 | 82.6 | 5.8 | 22.2 | 3.1 | 7.0 | 2.5 | fire        |\n",
       "\n"
      ],
      "text/plain": [
       "  day month year Temperature RH Ws Rain FFMC DMC DC   ISI BUI FWI Classes    \n",
       "1 01  06    2012 29          57 18  0.0 65.7 3.4  7.6 1.3 3.4 0.5 not fire   \n",
       "2 02  06    2012 29          61 13  1.3 64.4 4.1  7.6 1.0 3.9 0.4 not fire   \n",
       "3 03  06    2012 26          82 22 13.1 47.1 2.5  7.1 0.3 2.7 0.1 not fire   \n",
       "4 04  06    2012 25          89 13  2.5 28.6 1.3  6.9 0.0 1.7 0.0 not fire   \n",
       "5 05  06    2012 27          77 16  0.0 64.8 3.0 14.2 1.2 3.9 0.5 not fire   \n",
       "6 06  06    2012 31          67 14  0.0 82.6 5.8 22.2 3.1 7.0 2.5 fire       "
      ]
     },
     "metadata": {},
     "output_type": "display_data"
    }
   ],
   "source": [
    "forest_fire_data_collect <- collect(forest_fire_data_raw)\n",
    "\n",
    "forest_fire_data <- forest_fire_data_collect %>%\n",
    "    mutate(Classes = as.factor(Classes),\n",
    "           Temperature = as.numeric(Temperature, na.rm = TRUE),\n",
    "           RH = as.numeric(RH, na.rm = TRUE),\n",
    "           Ws = as.numeric(Ws, na.rm = TRUE),\n",
    "           Rain = as.numeric(Rain, na.rm = TRUE),\n",
    "           FFMC = as.numeric(FFMC, na.rm = TRUE),\n",
    "           DMC = as.numeric(DMC, na.rm = TRUE),\n",
    "           DC = as.numeric(DC, na.rm = TRUE),\n",
    "           ISI = as.numeric(ISI, na.rm = TRUE),\n",
    "           BUI = as.numeric(BUI, na.rm = TRUE),\n",
    "           FWI = as.numeric(FWI, na.rm = TRUE))\n",
    "\n",
    "head(forest_fire_data)"
   ]
  },
  {
   "cell_type": "markdown",
   "metadata": {},
   "source": [
    "#### Extracting Training Data\n",
    "* 75% of the data was used as training data in this analysis"
   ]
  },
  {
   "cell_type": "code",
   "execution_count": 70,
   "metadata": {},
   "outputs": [
    {
     "data": {
      "text/html": [
       "<table>\n",
       "<caption>A data.frame: 6 × 14</caption>\n",
       "<thead>\n",
       "\t<tr><th></th><th scope=col>day</th><th scope=col>month</th><th scope=col>year</th><th scope=col>Temperature</th><th scope=col>RH</th><th scope=col>Ws</th><th scope=col>Rain</th><th scope=col>FFMC</th><th scope=col>DMC</th><th scope=col>DC</th><th scope=col>ISI</th><th scope=col>BUI</th><th scope=col>FWI</th><th scope=col>Classes</th></tr>\n",
       "\t<tr><th></th><th scope=col>&lt;chr&gt;</th><th scope=col>&lt;chr&gt;</th><th scope=col>&lt;chr&gt;</th><th scope=col>&lt;dbl&gt;</th><th scope=col>&lt;dbl&gt;</th><th scope=col>&lt;dbl&gt;</th><th scope=col>&lt;dbl&gt;</th><th scope=col>&lt;dbl&gt;</th><th scope=col>&lt;dbl&gt;</th><th scope=col>&lt;dbl&gt;</th><th scope=col>&lt;dbl&gt;</th><th scope=col>&lt;dbl&gt;</th><th scope=col>&lt;dbl&gt;</th><th scope=col>&lt;fct&gt;</th></tr>\n",
       "</thead>\n",
       "<tbody>\n",
       "\t<tr><th scope=row>1</th><td>01</td><td>06</td><td>2012</td><td>29</td><td>57</td><td>18</td><td> 0.0</td><td>65.7</td><td>3.4</td><td> 7.6</td><td>1.3</td><td>3.4</td><td>0.5</td><td>not fire   </td></tr>\n",
       "\t<tr><th scope=row>2</th><td>02</td><td>06</td><td>2012</td><td>29</td><td>61</td><td>13</td><td> 1.3</td><td>64.4</td><td>4.1</td><td> 7.6</td><td>1.0</td><td>3.9</td><td>0.4</td><td>not fire   </td></tr>\n",
       "\t<tr><th scope=row>3</th><td>03</td><td>06</td><td>2012</td><td>26</td><td>82</td><td>22</td><td>13.1</td><td>47.1</td><td>2.5</td><td> 7.1</td><td>0.3</td><td>2.7</td><td>0.1</td><td>not fire   </td></tr>\n",
       "\t<tr><th scope=row>4</th><td>04</td><td>06</td><td>2012</td><td>25</td><td>89</td><td>13</td><td> 2.5</td><td>28.6</td><td>1.3</td><td> 6.9</td><td>0.0</td><td>1.7</td><td>0.0</td><td>not fire   </td></tr>\n",
       "\t<tr><th scope=row>5</th><td>05</td><td>06</td><td>2012</td><td>27</td><td>77</td><td>16</td><td> 0.0</td><td>64.8</td><td>3.0</td><td>14.2</td><td>1.2</td><td>3.9</td><td>0.5</td><td>not fire   </td></tr>\n",
       "\t<tr><th scope=row>6</th><td>06</td><td>06</td><td>2012</td><td>31</td><td>67</td><td>14</td><td> 0.0</td><td>82.6</td><td>5.8</td><td>22.2</td><td>3.1</td><td>7.0</td><td>2.5</td><td>fire       </td></tr>\n",
       "</tbody>\n",
       "</table>\n"
      ],
      "text/latex": [
       "A data.frame: 6 × 14\n",
       "\\begin{tabular}{r|llllllllllllll}\n",
       "  & day & month & year & Temperature & RH & Ws & Rain & FFMC & DMC & DC & ISI & BUI & FWI & Classes\\\\\n",
       "  & <chr> & <chr> & <chr> & <dbl> & <dbl> & <dbl> & <dbl> & <dbl> & <dbl> & <dbl> & <dbl> & <dbl> & <dbl> & <fct>\\\\\n",
       "\\hline\n",
       "\t1 & 01 & 06 & 2012 & 29 & 57 & 18 &  0.0 & 65.7 & 3.4 &  7.6 & 1.3 & 3.4 & 0.5 & not fire   \\\\\n",
       "\t2 & 02 & 06 & 2012 & 29 & 61 & 13 &  1.3 & 64.4 & 4.1 &  7.6 & 1.0 & 3.9 & 0.4 & not fire   \\\\\n",
       "\t3 & 03 & 06 & 2012 & 26 & 82 & 22 & 13.1 & 47.1 & 2.5 &  7.1 & 0.3 & 2.7 & 0.1 & not fire   \\\\\n",
       "\t4 & 04 & 06 & 2012 & 25 & 89 & 13 &  2.5 & 28.6 & 1.3 &  6.9 & 0.0 & 1.7 & 0.0 & not fire   \\\\\n",
       "\t5 & 05 & 06 & 2012 & 27 & 77 & 16 &  0.0 & 64.8 & 3.0 & 14.2 & 1.2 & 3.9 & 0.5 & not fire   \\\\\n",
       "\t6 & 06 & 06 & 2012 & 31 & 67 & 14 &  0.0 & 82.6 & 5.8 & 22.2 & 3.1 & 7.0 & 2.5 & fire       \\\\\n",
       "\\end{tabular}\n"
      ],
      "text/markdown": [
       "\n",
       "A data.frame: 6 × 14\n",
       "\n",
       "| <!--/--> | day &lt;chr&gt; | month &lt;chr&gt; | year &lt;chr&gt; | Temperature &lt;dbl&gt; | RH &lt;dbl&gt; | Ws &lt;dbl&gt; | Rain &lt;dbl&gt; | FFMC &lt;dbl&gt; | DMC &lt;dbl&gt; | DC &lt;dbl&gt; | ISI &lt;dbl&gt; | BUI &lt;dbl&gt; | FWI &lt;dbl&gt; | Classes &lt;fct&gt; |\n",
       "|---|---|---|---|---|---|---|---|---|---|---|---|---|---|---|\n",
       "| 1 | 01 | 06 | 2012 | 29 | 57 | 18 |  0.0 | 65.7 | 3.4 |  7.6 | 1.3 | 3.4 | 0.5 | not fire    |\n",
       "| 2 | 02 | 06 | 2012 | 29 | 61 | 13 |  1.3 | 64.4 | 4.1 |  7.6 | 1.0 | 3.9 | 0.4 | not fire    |\n",
       "| 3 | 03 | 06 | 2012 | 26 | 82 | 22 | 13.1 | 47.1 | 2.5 |  7.1 | 0.3 | 2.7 | 0.1 | not fire    |\n",
       "| 4 | 04 | 06 | 2012 | 25 | 89 | 13 |  2.5 | 28.6 | 1.3 |  6.9 | 0.0 | 1.7 | 0.0 | not fire    |\n",
       "| 5 | 05 | 06 | 2012 | 27 | 77 | 16 |  0.0 | 64.8 | 3.0 | 14.2 | 1.2 | 3.9 | 0.5 | not fire    |\n",
       "| 6 | 06 | 06 | 2012 | 31 | 67 | 14 |  0.0 | 82.6 | 5.8 | 22.2 | 3.1 | 7.0 | 2.5 | fire        |\n",
       "\n"
      ],
      "text/plain": [
       "  day month year Temperature RH Ws Rain FFMC DMC DC   ISI BUI FWI Classes    \n",
       "1 01  06    2012 29          57 18  0.0 65.7 3.4  7.6 1.3 3.4 0.5 not fire   \n",
       "2 02  06    2012 29          61 13  1.3 64.4 4.1  7.6 1.0 3.9 0.4 not fire   \n",
       "3 03  06    2012 26          82 22 13.1 47.1 2.5  7.1 0.3 2.7 0.1 not fire   \n",
       "4 04  06    2012 25          89 13  2.5 28.6 1.3  6.9 0.0 1.7 0.0 not fire   \n",
       "5 05  06    2012 27          77 16  0.0 64.8 3.0 14.2 1.2 3.9 0.5 not fire   \n",
       "6 06  06    2012 31          67 14  0.0 82.6 5.8 22.2 3.1 7.0 2.5 fire       "
      ]
     },
     "metadata": {},
     "output_type": "display_data"
    }
   ],
   "source": [
    "set.seed(3456) \n",
    "\n",
    "forest_split <- initial_split(forest_fire_data, prop = 0.75, strata = Classes)  \n",
    "forest_fire_training <- training(forest_split)   \n",
    "forest_fire_testing <- testing(forest_split)\n",
    "\n",
    "head(forest_fire_training)"
   ]
  },
  {
   "cell_type": "markdown",
   "metadata": {},
   "source": [
    "3) Creating a Summary Table\n",
    "* We wanted to create a summary table that showed the number of observations in both the \"fire\" and \"not fire\" classes that we are using as well as the means of the predictor variables we plan to use (Temperature:Rain)."
   ]
  },
  {
   "cell_type": "code",
   "execution_count": 71,
   "metadata": {},
   "outputs": [
    {
     "ename": "ERROR",
     "evalue": "Error in fail(): could not find function \"fail\"\n",
     "output_type": "error",
     "traceback": [
      "Error in fail(): could not find function \"fail\"\nTraceback:\n"
     ]
    }
   ],
   "source": [
    "fail()\n",
    "\n",
    "forest_fire_summary <- forest_fire_training %>%\n",
    "    group_by(Classes) %>%\n",
    "    summarize(n = n()) \n",
    "\n",
    "forest_fire_summary"
   ]
  },
  {
   "cell_type": "markdown",
   "metadata": {},
   "source": [
    "4) Creating a Vsiaulization for Our Training Data\n",
    "* We wanted to visualize the distributions of our predictor variables (Temperature:Rain)"
   ]
  },
  {
   "cell_type": "code",
   "execution_count": 78,
   "metadata": {},
   "outputs": [
    {
     "data": {
      "text/html": [
       "<table>\n",
       "<caption>A tibble: 740 × 2</caption>\n",
       "<thead>\n",
       "\t<tr><th scope=col>factor</th><th scope=col>values</th></tr>\n",
       "\t<tr><th scope=col>&lt;chr&gt;</th><th scope=col>&lt;dbl[,1]&gt;</th></tr>\n",
       "</thead>\n",
       "<tbody>\n",
       "\t<tr><td>scaled_temperature</td><td>-0.7704208</td></tr>\n",
       "\t<tr><td>scaled_RH         </td><td>-0.3851683</td></tr>\n",
       "\t<tr><td>scaled_Ws         </td><td> 0.8275509</td></tr>\n",
       "\t<tr><td>⋮</td><td>⋮</td></tr>\n",
       "\t<tr><td>scaled_RH  </td><td> 0.07423636</td></tr>\n",
       "\t<tr><td>scaled_Ws  </td><td>-0.21209543</td></tr>\n",
       "\t<tr><td>scaled_Rain</td><td>-0.27979651</td></tr>\n",
       "</tbody>\n",
       "</table>\n"
      ],
      "text/latex": [
       "A tibble: 740 × 2\n",
       "\\begin{tabular}{ll}\n",
       " factor & values\\\\\n",
       " <chr> & <dbl{[},1{]}>\\\\\n",
       "\\hline\n",
       "\t scaled\\_temperature & -0.7704208\\\\\n",
       "\t scaled\\_RH          & -0.3851683\\\\\n",
       "\t scaled\\_Ws          &  0.8275509\\\\\n",
       "\t ⋮ & ⋮\\\\\n",
       "\t scaled\\_RH   &  0.07423636\\\\\n",
       "\t scaled\\_Ws   & -0.21209543\\\\\n",
       "\t scaled\\_Rain & -0.27979651\\\\\n",
       "\\end{tabular}\n"
      ],
      "text/markdown": [
       "\n",
       "A tibble: 740 × 2\n",
       "\n",
       "| factor &lt;chr&gt; | values &lt;dbl[,1]&gt; |\n",
       "|---|---|\n",
       "| scaled_temperature | -0.7704208 |\n",
       "| scaled_RH          | -0.3851683 |\n",
       "| scaled_Ws          |  0.8275509 |\n",
       "| ⋮ | ⋮ |\n",
       "| scaled_RH   |  0.07423636 |\n",
       "| scaled_Ws   | -0.21209543 |\n",
       "| scaled_Rain | -0.27979651 |\n",
       "\n"
      ],
      "text/plain": [
       "    factor             values     \n",
       "1   scaled_temperature -0.7704208 \n",
       "2   scaled_RH          -0.3851683 \n",
       "3   scaled_Ws           0.8275509 \n",
       "⋮   ⋮                  ⋮          \n",
       "738 scaled_RH           0.07423636\n",
       "739 scaled_Ws          -0.21209543\n",
       "740 scaled_Rain        -0.27979651"
      ]
     },
     "metadata": {},
     "output_type": "display_data"
    },
    {
     "data": {
      "text/plain": [
       "$x\n",
       "[1] \"Value\"\n",
       "\n",
       "attr(,\"class\")\n",
       "[1] \"labels\""
      ]
     },
     "metadata": {},
     "output_type": "display_data"
    },
    {
     "name": "stderr",
     "output_type": "stream",
     "text": [
      "`stat_bin()` using `bins = 30`. Pick better value with `binwidth`.\n",
      "\n",
      "Warning message:\n",
      "“Removed 8 rows containing non-finite values (stat_bin).”\n"
     ]
    },
    {
     "data": {
      "image/png": "[encoded data removed]",
      "text/plain": [
       "plot without title"
      ]
     },
     "metadata": {
      "image/png": {
       "height": 420,
       "width": 420
      }
     },
     "output_type": "display_data"
    }
   ],
   "source": [
    "forest_fire_visualization_table <- forest_fire_training %>%\n",
    "    mutate(scaled_temperature = scale(Temperature), \n",
    "           scaled_RH = scale(RH),\n",
    "           scaled_Ws = scale(Ws),\n",
    "           scaled_Rain = scale(Rain))%>%\n",
    "    pivot_longer(cols = scaled_temperature:scaled_Rain, names_to = \"factor\", values_to = \"values\") %>%\n",
    "    select(factor, values)\n",
    "forest_fire_visualization_table\n",
    "\n",
    "forest_fire_visualization <- forest_fire_visualization_table %>%\n",
    "    ggplot(aes(x = values, fill = factor(factor))) +\n",
    "    geom_histogram(position = \"identity\") +\n",
    "    facet_grid(factor ~ .)\n",
    "    labs(x = \"Value\")\n",
    "\n",
    "forest_fire_visualization"
   ]
  },
  {
   "cell_type": "code",
   "execution_count": null,
   "metadata": {},
   "outputs": [],
   "source": []
  }
 ],
 "metadata": {
  "kernelspec": {
   "display_name": "R",
   "language": "R",
   "name": "ir"
  },
  "language_info": {
   "codemirror_mode": "r",
   "file_extension": ".r",
   "mimetype": "text/x-r-source",
   "name": "R",
   "pygments_lexer": "r",
   "version": "4.0.0"
  }
 },
 "nbformat": 4,
 "nbformat_minor": 4
}
