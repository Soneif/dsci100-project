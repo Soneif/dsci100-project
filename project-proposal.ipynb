{
 "cells": [
  {
   "cell_type": "code",
   "execution_count": 1,
   "metadata": {},
   "outputs": [
    {
     "name": "stderr",
     "output_type": "stream",
     "text": [
      "── \u001b[1mAttaching packages\u001b[22m ─────────────────────────────────────── tidyverse 1.3.0 ──\n",
      "\n",
      "\u001b[32m✔\u001b[39m \u001b[34mggplot2\u001b[39m 3.3.2     \u001b[32m✔\u001b[39m \u001b[34mpurrr  \u001b[39m 0.3.4\n",
      "\u001b[32m✔\u001b[39m \u001b[34mtibble \u001b[39m 3.0.3     \u001b[32m✔\u001b[39m \u001b[34mdplyr  \u001b[39m 1.0.2\n",
      "\u001b[32m✔\u001b[39m \u001b[34mtidyr  \u001b[39m 1.1.2     \u001b[32m✔\u001b[39m \u001b[34mstringr\u001b[39m 1.4.0\n",
      "\u001b[32m✔\u001b[39m \u001b[34mreadr  \u001b[39m 1.3.1     \u001b[32m✔\u001b[39m \u001b[34mforcats\u001b[39m 0.5.0\n",
      "\n",
      "Warning message:\n",
      "“package ‘ggplot2’ was built under R version 4.0.1”\n",
      "Warning message:\n",
      "“package ‘tibble’ was built under R version 4.0.2”\n",
      "Warning message:\n",
      "“package ‘tidyr’ was built under R version 4.0.2”\n",
      "Warning message:\n",
      "“package ‘dplyr’ was built under R version 4.0.2”\n",
      "── \u001b[1mConflicts\u001b[22m ────────────────────────────────────────── tidyverse_conflicts() ──\n",
      "\u001b[31m✖\u001b[39m \u001b[34mdplyr\u001b[39m::\u001b[32mfilter()\u001b[39m masks \u001b[34mstats\u001b[39m::filter()\n",
      "\u001b[31m✖\u001b[39m \u001b[34mdplyr\u001b[39m::\u001b[32mlag()\u001b[39m    masks \u001b[34mstats\u001b[39m::lag()\n",
      "\n"
     ]
    }
   ],
   "source": [
    "library(tidyverse)"
   ]
  },
  {
   "cell_type": "markdown",
   "metadata": {},
   "source": [
    "## Preliminary Exploratory Data Analysis:\n",
    "1) Reading the dataset from the web into R"
   ]
  },
  {
   "cell_type": "code",
   "execution_count": 6,
   "metadata": {},
   "outputs": [
    {
     "data": {
      "text/html": [
       "<table>\n",
       "<caption>A data.frame: 6 × 14</caption>\n",
       "<thead>\n",
       "\t<tr><th></th><th scope=col>day</th><th scope=col>month</th><th scope=col>year</th><th scope=col>Temperature</th><th scope=col>RH</th><th scope=col>Ws</th><th scope=col>Rain</th><th scope=col>FFMC</th><th scope=col>DMC</th><th scope=col>DC</th><th scope=col>ISI</th><th scope=col>BUI</th><th scope=col>FWI</th><th scope=col>Classes</th></tr>\n",
       "\t<tr><th></th><th scope=col>&lt;chr&gt;</th><th scope=col>&lt;chr&gt;</th><th scope=col>&lt;chr&gt;</th><th scope=col>&lt;chr&gt;</th><th scope=col>&lt;chr&gt;</th><th scope=col>&lt;chr&gt;</th><th scope=col>&lt;chr&gt;</th><th scope=col>&lt;chr&gt;</th><th scope=col>&lt;chr&gt;</th><th scope=col>&lt;chr&gt;</th><th scope=col>&lt;chr&gt;</th><th scope=col>&lt;chr&gt;</th><th scope=col>&lt;chr&gt;</th><th scope=col>&lt;chr&gt;</th></tr>\n",
       "</thead>\n",
       "<tbody>\n",
       "\t<tr><th scope=row>1</th><td>01</td><td>06</td><td>2012</td><td>29</td><td>57</td><td>18</td><td>0   </td><td>65.7</td><td>3.4</td><td>7.6 </td><td>1.3</td><td>3.4</td><td>0.5</td><td>not fire   </td></tr>\n",
       "\t<tr><th scope=row>2</th><td>02</td><td>06</td><td>2012</td><td>29</td><td>61</td><td>13</td><td>1.3 </td><td>64.4</td><td>4.1</td><td>7.6 </td><td>1  </td><td>3.9</td><td>0.4</td><td>not fire   </td></tr>\n",
       "\t<tr><th scope=row>3</th><td>03</td><td>06</td><td>2012</td><td>26</td><td>82</td><td>22</td><td>13.1</td><td>47.1</td><td>2.5</td><td>7.1 </td><td>0.3</td><td>2.7</td><td>0.1</td><td>not fire   </td></tr>\n",
       "\t<tr><th scope=row>4</th><td>04</td><td>06</td><td>2012</td><td>25</td><td>89</td><td>13</td><td>2.5 </td><td>28.6</td><td>1.3</td><td>6.9 </td><td>0  </td><td>1.7</td><td>0  </td><td>not fire   </td></tr>\n",
       "\t<tr><th scope=row>5</th><td>05</td><td>06</td><td>2012</td><td>27</td><td>77</td><td>16</td><td>0   </td><td>64.8</td><td>3  </td><td>14.2</td><td>1.2</td><td>3.9</td><td>0.5</td><td>not fire   </td></tr>\n",
       "\t<tr><th scope=row>6</th><td>06</td><td>06</td><td>2012</td><td>31</td><td>67</td><td>14</td><td>0   </td><td>82.6</td><td>5.8</td><td>22.2</td><td>3.1</td><td>7  </td><td>2.5</td><td>fire       </td></tr>\n",
       "</tbody>\n",
       "</table>\n"
      ],
      "text/latex": [
       "A data.frame: 6 × 14\n",
       "\\begin{tabular}{r|llllllllllllll}\n",
       "  & day & month & year & Temperature & RH & Ws & Rain & FFMC & DMC & DC & ISI & BUI & FWI & Classes\\\\\n",
       "  & <chr> & <chr> & <chr> & <chr> & <chr> & <chr> & <chr> & <chr> & <chr> & <chr> & <chr> & <chr> & <chr> & <chr>\\\\\n",
       "\\hline\n",
       "\t1 & 01 & 06 & 2012 & 29 & 57 & 18 & 0    & 65.7 & 3.4 & 7.6  & 1.3 & 3.4 & 0.5 & not fire   \\\\\n",
       "\t2 & 02 & 06 & 2012 & 29 & 61 & 13 & 1.3  & 64.4 & 4.1 & 7.6  & 1   & 3.9 & 0.4 & not fire   \\\\\n",
       "\t3 & 03 & 06 & 2012 & 26 & 82 & 22 & 13.1 & 47.1 & 2.5 & 7.1  & 0.3 & 2.7 & 0.1 & not fire   \\\\\n",
       "\t4 & 04 & 06 & 2012 & 25 & 89 & 13 & 2.5  & 28.6 & 1.3 & 6.9  & 0   & 1.7 & 0   & not fire   \\\\\n",
       "\t5 & 05 & 06 & 2012 & 27 & 77 & 16 & 0    & 64.8 & 3   & 14.2 & 1.2 & 3.9 & 0.5 & not fire   \\\\\n",
       "\t6 & 06 & 06 & 2012 & 31 & 67 & 14 & 0    & 82.6 & 5.8 & 22.2 & 3.1 & 7   & 2.5 & fire       \\\\\n",
       "\\end{tabular}\n"
      ],
      "text/markdown": [
       "\n",
       "A data.frame: 6 × 14\n",
       "\n",
       "| <!--/--> | day &lt;chr&gt; | month &lt;chr&gt; | year &lt;chr&gt; | Temperature &lt;chr&gt; | RH &lt;chr&gt; | Ws &lt;chr&gt; | Rain &lt;chr&gt; | FFMC &lt;chr&gt; | DMC &lt;chr&gt; | DC &lt;chr&gt; | ISI &lt;chr&gt; | BUI &lt;chr&gt; | FWI &lt;chr&gt; | Classes &lt;chr&gt; |\n",
       "|---|---|---|---|---|---|---|---|---|---|---|---|---|---|---|\n",
       "| 1 | 01 | 06 | 2012 | 29 | 57 | 18 | 0    | 65.7 | 3.4 | 7.6  | 1.3 | 3.4 | 0.5 | not fire    |\n",
       "| 2 | 02 | 06 | 2012 | 29 | 61 | 13 | 1.3  | 64.4 | 4.1 | 7.6  | 1   | 3.9 | 0.4 | not fire    |\n",
       "| 3 | 03 | 06 | 2012 | 26 | 82 | 22 | 13.1 | 47.1 | 2.5 | 7.1  | 0.3 | 2.7 | 0.1 | not fire    |\n",
       "| 4 | 04 | 06 | 2012 | 25 | 89 | 13 | 2.5  | 28.6 | 1.3 | 6.9  | 0   | 1.7 | 0   | not fire    |\n",
       "| 5 | 05 | 06 | 2012 | 27 | 77 | 16 | 0    | 64.8 | 3   | 14.2 | 1.2 | 3.9 | 0.5 | not fire    |\n",
       "| 6 | 06 | 06 | 2012 | 31 | 67 | 14 | 0    | 82.6 | 5.8 | 22.2 | 3.1 | 7   | 2.5 | fire        |\n",
       "\n"
      ],
      "text/plain": [
       "  day month year Temperature RH Ws Rain FFMC DMC DC   ISI BUI FWI Classes    \n",
       "1 01  06    2012 29          57 18 0    65.7 3.4 7.6  1.3 3.4 0.5 not fire   \n",
       "2 02  06    2012 29          61 13 1.3  64.4 4.1 7.6  1   3.9 0.4 not fire   \n",
       "3 03  06    2012 26          82 22 13.1 47.1 2.5 7.1  0.3 2.7 0.1 not fire   \n",
       "4 04  06    2012 25          89 13 2.5  28.6 1.3 6.9  0   1.7 0   not fire   \n",
       "5 05  06    2012 27          77 16 0    64.8 3   14.2 1.2 3.9 0.5 not fire   \n",
       "6 06  06    2012 31          67 14 0    82.6 5.8 22.2 3.1 7   2.5 fire       "
      ]
     },
     "metadata": {},
     "output_type": "display_data"
    }
   ],
   "source": [
    "forest_fire_data_raw <- read.csv(\"https://archive.ics.uci.edu/ml/machine-learning-databases/00547/Algerian_forest_fires_dataset_UPDATE.csv\", skip = 1)\n",
    "head(forest_fire_data_raw) #previewing the first 6 rows of the dataset"
   ]
  },
  {
   "cell_type": "markdown",
   "metadata": {},
   "source": [
    "Here is what the column headings mean:\n",
    "* day/month/year: indicate the day/month/year that the observation was taken, respectively.\n",
    "* Temperature: Maximum Temperature on that day (Celsius)\n",
    "* RH: Realtive Humidity (%)\n",
    "* Ws: Wind Speed (km/h)\n",
    "* Rain: Total that day (mm)\n",
    "* FFMC: Fine Fuel Moisture Code Index from FWI system\n",
    "* DMC: Duff Moisture Code Index from FWI system\n",
    "* DC: Drought Code Index from FWI system\n",
    "* ISI: Initial Spread Index from FWI system\n",
    "* BUI: Buildup index from FWI system\n",
    "* FWI: Fire Weather Index\n",
    "* Classes: either \"not fire\" or \"fire\""
   ]
  },
  {
   "cell_type": "markdown",
   "metadata": {},
   "source": [
    "2) Cleaning and Wrangling the Data into a Tidy Format\n",
    "* The data is already in a tidy form as all observations are split into individual rows, each column is a single variable and each value is in a single cell.\n",
    "* However, to make the data more usable, we decided to convert some of the columns from characters to factors (Classes) and numeric values (Temperature:FWI)."
   ]
  },
  {
   "cell_type": "code",
   "execution_count": 33,
   "metadata": {},
   "outputs": [
    {
     "name": "stderr",
     "output_type": "stream",
     "text": [
      "Warning message:\n",
      "“Problem with `mutate()` input `Temperature`.\n",
      "\u001b[34mℹ\u001b[39m NAs introduced by coercion\n",
      "\u001b[34mℹ\u001b[39m Input `Temperature` is `as.numeric(Temperature, na.rm = TRUE)`.”\n",
      "Warning message in mask$eval_all_mutate(dots[[i]]):\n",
      "“NAs introduced by coercion”\n",
      "Warning message:\n",
      "“Problem with `mutate()` input `RH`.\n",
      "\u001b[34mℹ\u001b[39m NAs introduced by coercion\n",
      "\u001b[34mℹ\u001b[39m Input `RH` is `as.numeric(RH, na.rm = TRUE)`.”\n",
      "Warning message in mask$eval_all_mutate(dots[[i]]):\n",
      "“NAs introduced by coercion”\n",
      "Warning message:\n",
      "“Problem with `mutate()` input `Ws`.\n",
      "\u001b[34mℹ\u001b[39m NAs introduced by coercion\n",
      "\u001b[34mℹ\u001b[39m Input `Ws` is `as.numeric(Ws, na.rm = TRUE)`.”\n",
      "Warning message in mask$eval_all_mutate(dots[[i]]):\n",
      "“NAs introduced by coercion”\n",
      "Warning message:\n",
      "“Problem with `mutate()` input `Rain`.\n",
      "\u001b[34mℹ\u001b[39m NAs introduced by coercion\n",
      "\u001b[34mℹ\u001b[39m Input `Rain` is `as.numeric(Rain, na.rm = TRUE)`.”\n",
      "Warning message in mask$eval_all_mutate(dots[[i]]):\n",
      "“NAs introduced by coercion”\n",
      "Warning message:\n",
      "“Problem with `mutate()` input `FFMC`.\n",
      "\u001b[34mℹ\u001b[39m NAs introduced by coercion\n",
      "\u001b[34mℹ\u001b[39m Input `FFMC` is `as.numeric(FFMC, na.rm = TRUE)`.”\n",
      "Warning message in mask$eval_all_mutate(dots[[i]]):\n",
      "“NAs introduced by coercion”\n",
      "Warning message:\n",
      "“Problem with `mutate()` input `DMC`.\n",
      "\u001b[34mℹ\u001b[39m NAs introduced by coercion\n",
      "\u001b[34mℹ\u001b[39m Input `DMC` is `as.numeric(DMC, na.rm = TRUE)`.”\n",
      "Warning message in mask$eval_all_mutate(dots[[i]]):\n",
      "“NAs introduced by coercion”\n",
      "Warning message:\n",
      "“Problem with `mutate()` input `DC`.\n",
      "\u001b[34mℹ\u001b[39m NAs introduced by coercion\n",
      "\u001b[34mℹ\u001b[39m Input `DC` is `as.numeric(DC, na.rm = TRUE)`.”\n",
      "Warning message in mask$eval_all_mutate(dots[[i]]):\n",
      "“NAs introduced by coercion”\n",
      "Warning message:\n",
      "“Problem with `mutate()` input `ISI`.\n",
      "\u001b[34mℹ\u001b[39m NAs introduced by coercion\n",
      "\u001b[34mℹ\u001b[39m Input `ISI` is `as.numeric(ISI, na.rm = TRUE)`.”\n",
      "Warning message in mask$eval_all_mutate(dots[[i]]):\n",
      "“NAs introduced by coercion”\n",
      "Warning message:\n",
      "“Problem with `mutate()` input `BUI`.\n",
      "\u001b[34mℹ\u001b[39m NAs introduced by coercion\n",
      "\u001b[34mℹ\u001b[39m Input `BUI` is `as.numeric(BUI, na.rm = TRUE)`.”\n",
      "Warning message in mask$eval_all_mutate(dots[[i]]):\n",
      "“NAs introduced by coercion”\n",
      "Warning message:\n",
      "“Problem with `mutate()` input `FWI`.\n",
      "\u001b[34mℹ\u001b[39m NAs introduced by coercion\n",
      "\u001b[34mℹ\u001b[39m Input `FWI` is `as.numeric(FWI, na.rm = TRUE)`.”\n",
      "Warning message in mask$eval_all_mutate(dots[[i]]):\n",
      "“NAs introduced by coercion”\n"
     ]
    },
    {
     "data": {
      "text/html": [
       "<table>\n",
       "<caption>A data.frame: 6 × 14</caption>\n",
       "<thead>\n",
       "\t<tr><th></th><th scope=col>day</th><th scope=col>month</th><th scope=col>year</th><th scope=col>Temperature</th><th scope=col>RH</th><th scope=col>Ws</th><th scope=col>Rain</th><th scope=col>FFMC</th><th scope=col>DMC</th><th scope=col>DC</th><th scope=col>ISI</th><th scope=col>BUI</th><th scope=col>FWI</th><th scope=col>Classes</th></tr>\n",
       "\t<tr><th></th><th scope=col>&lt;chr&gt;</th><th scope=col>&lt;chr&gt;</th><th scope=col>&lt;chr&gt;</th><th scope=col>&lt;dbl&gt;</th><th scope=col>&lt;dbl&gt;</th><th scope=col>&lt;dbl&gt;</th><th scope=col>&lt;dbl&gt;</th><th scope=col>&lt;dbl&gt;</th><th scope=col>&lt;dbl&gt;</th><th scope=col>&lt;dbl&gt;</th><th scope=col>&lt;dbl&gt;</th><th scope=col>&lt;dbl&gt;</th><th scope=col>&lt;dbl&gt;</th><th scope=col>&lt;fct&gt;</th></tr>\n",
       "</thead>\n",
       "<tbody>\n",
       "\t<tr><th scope=row>1</th><td>01</td><td>06</td><td>2012</td><td>29</td><td>57</td><td>18</td><td> 0.0</td><td>65.7</td><td>3.4</td><td> 7.6</td><td>1.3</td><td>3.4</td><td>0.5</td><td>not fire   </td></tr>\n",
       "\t<tr><th scope=row>2</th><td>02</td><td>06</td><td>2012</td><td>29</td><td>61</td><td>13</td><td> 1.3</td><td>64.4</td><td>4.1</td><td> 7.6</td><td>1.0</td><td>3.9</td><td>0.4</td><td>not fire   </td></tr>\n",
       "\t<tr><th scope=row>3</th><td>03</td><td>06</td><td>2012</td><td>26</td><td>82</td><td>22</td><td>13.1</td><td>47.1</td><td>2.5</td><td> 7.1</td><td>0.3</td><td>2.7</td><td>0.1</td><td>not fire   </td></tr>\n",
       "\t<tr><th scope=row>4</th><td>04</td><td>06</td><td>2012</td><td>25</td><td>89</td><td>13</td><td> 2.5</td><td>28.6</td><td>1.3</td><td> 6.9</td><td>0.0</td><td>1.7</td><td>0.0</td><td>not fire   </td></tr>\n",
       "\t<tr><th scope=row>5</th><td>05</td><td>06</td><td>2012</td><td>27</td><td>77</td><td>16</td><td> 0.0</td><td>64.8</td><td>3.0</td><td>14.2</td><td>1.2</td><td>3.9</td><td>0.5</td><td>not fire   </td></tr>\n",
       "\t<tr><th scope=row>6</th><td>06</td><td>06</td><td>2012</td><td>31</td><td>67</td><td>14</td><td> 0.0</td><td>82.6</td><td>5.8</td><td>22.2</td><td>3.1</td><td>7.0</td><td>2.5</td><td>fire       </td></tr>\n",
       "</tbody>\n",
       "</table>\n"
      ],
      "text/latex": [
       "A data.frame: 6 × 14\n",
       "\\begin{tabular}{r|llllllllllllll}\n",
       "  & day & month & year & Temperature & RH & Ws & Rain & FFMC & DMC & DC & ISI & BUI & FWI & Classes\\\\\n",
       "  & <chr> & <chr> & <chr> & <dbl> & <dbl> & <dbl> & <dbl> & <dbl> & <dbl> & <dbl> & <dbl> & <dbl> & <dbl> & <fct>\\\\\n",
       "\\hline\n",
       "\t1 & 01 & 06 & 2012 & 29 & 57 & 18 &  0.0 & 65.7 & 3.4 &  7.6 & 1.3 & 3.4 & 0.5 & not fire   \\\\\n",
       "\t2 & 02 & 06 & 2012 & 29 & 61 & 13 &  1.3 & 64.4 & 4.1 &  7.6 & 1.0 & 3.9 & 0.4 & not fire   \\\\\n",
       "\t3 & 03 & 06 & 2012 & 26 & 82 & 22 & 13.1 & 47.1 & 2.5 &  7.1 & 0.3 & 2.7 & 0.1 & not fire   \\\\\n",
       "\t4 & 04 & 06 & 2012 & 25 & 89 & 13 &  2.5 & 28.6 & 1.3 &  6.9 & 0.0 & 1.7 & 0.0 & not fire   \\\\\n",
       "\t5 & 05 & 06 & 2012 & 27 & 77 & 16 &  0.0 & 64.8 & 3.0 & 14.2 & 1.2 & 3.9 & 0.5 & not fire   \\\\\n",
       "\t6 & 06 & 06 & 2012 & 31 & 67 & 14 &  0.0 & 82.6 & 5.8 & 22.2 & 3.1 & 7.0 & 2.5 & fire       \\\\\n",
       "\\end{tabular}\n"
      ],
      "text/markdown": [
       "\n",
       "A data.frame: 6 × 14\n",
       "\n",
       "| <!--/--> | day &lt;chr&gt; | month &lt;chr&gt; | year &lt;chr&gt; | Temperature &lt;dbl&gt; | RH &lt;dbl&gt; | Ws &lt;dbl&gt; | Rain &lt;dbl&gt; | FFMC &lt;dbl&gt; | DMC &lt;dbl&gt; | DC &lt;dbl&gt; | ISI &lt;dbl&gt; | BUI &lt;dbl&gt; | FWI &lt;dbl&gt; | Classes &lt;fct&gt; |\n",
       "|---|---|---|---|---|---|---|---|---|---|---|---|---|---|---|\n",
       "| 1 | 01 | 06 | 2012 | 29 | 57 | 18 |  0.0 | 65.7 | 3.4 |  7.6 | 1.3 | 3.4 | 0.5 | not fire    |\n",
       "| 2 | 02 | 06 | 2012 | 29 | 61 | 13 |  1.3 | 64.4 | 4.1 |  7.6 | 1.0 | 3.9 | 0.4 | not fire    |\n",
       "| 3 | 03 | 06 | 2012 | 26 | 82 | 22 | 13.1 | 47.1 | 2.5 |  7.1 | 0.3 | 2.7 | 0.1 | not fire    |\n",
       "| 4 | 04 | 06 | 2012 | 25 | 89 | 13 |  2.5 | 28.6 | 1.3 |  6.9 | 0.0 | 1.7 | 0.0 | not fire    |\n",
       "| 5 | 05 | 06 | 2012 | 27 | 77 | 16 |  0.0 | 64.8 | 3.0 | 14.2 | 1.2 | 3.9 | 0.5 | not fire    |\n",
       "| 6 | 06 | 06 | 2012 | 31 | 67 | 14 |  0.0 | 82.6 | 5.8 | 22.2 | 3.1 | 7.0 | 2.5 | fire        |\n",
       "\n"
      ],
      "text/plain": [
       "  day month year Temperature RH Ws Rain FFMC DMC DC   ISI BUI FWI Classes    \n",
       "1 01  06    2012 29          57 18  0.0 65.7 3.4  7.6 1.3 3.4 0.5 not fire   \n",
       "2 02  06    2012 29          61 13  1.3 64.4 4.1  7.6 1.0 3.9 0.4 not fire   \n",
       "3 03  06    2012 26          82 22 13.1 47.1 2.5  7.1 0.3 2.7 0.1 not fire   \n",
       "4 04  06    2012 25          89 13  2.5 28.6 1.3  6.9 0.0 1.7 0.0 not fire   \n",
       "5 05  06    2012 27          77 16  0.0 64.8 3.0 14.2 1.2 3.9 0.5 not fire   \n",
       "6 06  06    2012 31          67 14  0.0 82.6 5.8 22.2 3.1 7.0 2.5 fire       "
      ]
     },
     "metadata": {},
     "output_type": "display_data"
    }
   ],
   "source": [
    "forest_fire_data <- collect(forest_fire_data_raw)\n",
    "\n",
    "forest_fire_data_mutated_classes <- forest_fire_data %>%\n",
    "    mutate(Classes = as.factor(Classes)) %>%\n",
    "    mutate(Temperature = as.numeric(Temperature, na.rm = TRUE)) %>%\n",
    "    mutate(RH = as.numeric(RH, na.rm = TRUE)) %>%\n",
    "    mutate(Ws = as.numeric(Ws, na.rm = TRUE)) %>%\n",
    "    mutate(Rain = as.numeric(Rain, na.rm = TRUE)) %>%\n",
    "    mutate(FFMC = as.numeric(FFMC, na.rm = TRUE)) %>%\n",
    "    mutate(DMC = as.numeric(DMC, na.rm = TRUE)) %>%\n",
    "    mutate(DC = as.numeric(DC, na.rm = TRUE)) %>%\n",
    "    mutate(ISI = as.numeric(ISI, na.rm = TRUE)) %>%\n",
    "    mutate(BUI = as.numeric(BUI, na.rm = TRUE)) %>%\n",
    "    mutate(FWI = as.numeric(FWI, na.rm = TRUE))\n",
    "\n",
    "head(forest_fire_data_mutated_classes)"
   ]
  },
  {
   "cell_type": "code",
   "execution_count": null,
   "metadata": {},
   "outputs": [],
   "source": []
  }
 ],
 "metadata": {
  "kernelspec": {
   "display_name": "R",
   "language": "R",
   "name": "ir"
  },
  "language_info": {
   "codemirror_mode": "r",
   "file_extension": ".r",
   "mimetype": "text/x-r-source",
   "name": "R",
   "pygments_lexer": "r",
   "version": "4.0.0"
  }
 },
 "nbformat": 4,
 "nbformat_minor": 4
}
