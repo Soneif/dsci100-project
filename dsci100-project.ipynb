{
 "cells": [
  {
   "cell_type": "code",
   "execution_count": 8,
   "metadata": {},
   "outputs": [],
   "source": [
    "library(tidyverse)\n",
    "library(repr)\n",
    "library(tidymodels)\n",
    "options(repr.matrix.max.rows = 6)\n",
    "set.seed(3456) "
   ]
  },
  {
   "cell_type": "markdown",
   "metadata": {},
   "source": [
    "### Introduction:\n",
    "Fire behaviour is normally observed through components of fuel moisture and weather conditions. The Forest Fire Weather Index (FWI) is a system that consists of six components: three fuel moisture codes and three fire behaviour indices. Calculations of the components are based on daily weather observations. The goal will be to predict forest fires using climate characteristics in Algeria. We will compare the FWI to our predictions. We’ll work with the Algerian Forest Fires dataset, which consists of a total of 244 instances of forest fires situated in two Algerian regions. There are 11 attributes, one output attribute, classified as either fire (138 classes) or not fire (106 classes).\n",
    "Here is what the column headings mean:\n",
    "* day/month/year: indicate the day/month/year that the observation was taken, respectively.\n",
    "* Temperature: Maximum Temperature on that day (Celsius)\n",
    "* RH: Relative Humidity (%)\n",
    "* Ws: Wind Speed (km/h)\n",
    "* Rain: Total that day (mm)\n",
    "* FFMC: Fine Fuel Moisture Code Index from FWI system\n",
    "* DMC: Duff Moisture Code Index from FWI system\n",
    "* DC: Drought Code Index from FWI system\n",
    "* ISI: Initial Spread Index from FWI system\n",
    "* BUI: Buildup index from FWI system\n",
    "* FWI: Fire Weather Index\n",
    "* Classes: either \"not fire\" or \"fire\"\n"
   ]
  },
  {
   "cell_type": "markdown",
   "metadata": {},
   "source": [
    "### Preliminary Exploratory Data Analysis:\n",
    "1) Reading the dataset from the web into R"
   ]
  },
  {
   "cell_type": "code",
   "execution_count": 12,
   "metadata": {},
   "outputs": [
    {
     "data": {
      "text/html": [
       "<table>\n",
       "<caption>A data.frame: 6 × 14</caption>\n",
       "<thead>\n",
       "\t<tr><th></th><th scope=col>day</th><th scope=col>month</th><th scope=col>year</th><th scope=col>Temperature</th><th scope=col>RH</th><th scope=col>Ws</th><th scope=col>Rain</th><th scope=col>FFMC</th><th scope=col>DMC</th><th scope=col>DC</th><th scope=col>ISI</th><th scope=col>BUI</th><th scope=col>FWI</th><th scope=col>Classes</th></tr>\n",
       "\t<tr><th></th><th scope=col>&lt;chr&gt;</th><th scope=col>&lt;chr&gt;</th><th scope=col>&lt;chr&gt;</th><th scope=col>&lt;chr&gt;</th><th scope=col>&lt;chr&gt;</th><th scope=col>&lt;chr&gt;</th><th scope=col>&lt;chr&gt;</th><th scope=col>&lt;chr&gt;</th><th scope=col>&lt;chr&gt;</th><th scope=col>&lt;chr&gt;</th><th scope=col>&lt;chr&gt;</th><th scope=col>&lt;chr&gt;</th><th scope=col>&lt;chr&gt;</th><th scope=col>&lt;chr&gt;</th></tr>\n",
       "</thead>\n",
       "<tbody>\n",
       "\t<tr><th scope=row>1</th><td>01</td><td>06</td><td>2012</td><td>29</td><td>57</td><td>18</td><td>0   </td><td>65.7</td><td>3.4</td><td>7.6 </td><td>1.3</td><td>3.4</td><td>0.5</td><td>not fire   </td></tr>\n",
       "\t<tr><th scope=row>2</th><td>02</td><td>06</td><td>2012</td><td>29</td><td>61</td><td>13</td><td>1.3 </td><td>64.4</td><td>4.1</td><td>7.6 </td><td>1  </td><td>3.9</td><td>0.4</td><td>not fire   </td></tr>\n",
       "\t<tr><th scope=row>3</th><td>03</td><td>06</td><td>2012</td><td>26</td><td>82</td><td>22</td><td>13.1</td><td>47.1</td><td>2.5</td><td>7.1 </td><td>0.3</td><td>2.7</td><td>0.1</td><td>not fire   </td></tr>\n",
       "\t<tr><th scope=row>4</th><td>04</td><td>06</td><td>2012</td><td>25</td><td>89</td><td>13</td><td>2.5 </td><td>28.6</td><td>1.3</td><td>6.9 </td><td>0  </td><td>1.7</td><td>0  </td><td>not fire   </td></tr>\n",
       "\t<tr><th scope=row>5</th><td>05</td><td>06</td><td>2012</td><td>27</td><td>77</td><td>16</td><td>0   </td><td>64.8</td><td>3  </td><td>14.2</td><td>1.2</td><td>3.9</td><td>0.5</td><td>not fire   </td></tr>\n",
       "\t<tr><th scope=row>6</th><td>06</td><td>06</td><td>2012</td><td>31</td><td>67</td><td>14</td><td>0   </td><td>82.6</td><td>5.8</td><td>22.2</td><td>3.1</td><td>7  </td><td>2.5</td><td>fire       </td></tr>\n",
       "</tbody>\n",
       "</table>\n"
      ],
      "text/latex": [
       "A data.frame: 6 × 14\n",
       "\\begin{tabular}{r|llllllllllllll}\n",
       "  & day & month & year & Temperature & RH & Ws & Rain & FFMC & DMC & DC & ISI & BUI & FWI & Classes\\\\\n",
       "  & <chr> & <chr> & <chr> & <chr> & <chr> & <chr> & <chr> & <chr> & <chr> & <chr> & <chr> & <chr> & <chr> & <chr>\\\\\n",
       "\\hline\n",
       "\t1 & 01 & 06 & 2012 & 29 & 57 & 18 & 0    & 65.7 & 3.4 & 7.6  & 1.3 & 3.4 & 0.5 & not fire   \\\\\n",
       "\t2 & 02 & 06 & 2012 & 29 & 61 & 13 & 1.3  & 64.4 & 4.1 & 7.6  & 1   & 3.9 & 0.4 & not fire   \\\\\n",
       "\t3 & 03 & 06 & 2012 & 26 & 82 & 22 & 13.1 & 47.1 & 2.5 & 7.1  & 0.3 & 2.7 & 0.1 & not fire   \\\\\n",
       "\t4 & 04 & 06 & 2012 & 25 & 89 & 13 & 2.5  & 28.6 & 1.3 & 6.9  & 0   & 1.7 & 0   & not fire   \\\\\n",
       "\t5 & 05 & 06 & 2012 & 27 & 77 & 16 & 0    & 64.8 & 3   & 14.2 & 1.2 & 3.9 & 0.5 & not fire   \\\\\n",
       "\t6 & 06 & 06 & 2012 & 31 & 67 & 14 & 0    & 82.6 & 5.8 & 22.2 & 3.1 & 7   & 2.5 & fire       \\\\\n",
       "\\end{tabular}\n"
      ],
      "text/markdown": [
       "\n",
       "A data.frame: 6 × 14\n",
       "\n",
       "| <!--/--> | day &lt;chr&gt; | month &lt;chr&gt; | year &lt;chr&gt; | Temperature &lt;chr&gt; | RH &lt;chr&gt; | Ws &lt;chr&gt; | Rain &lt;chr&gt; | FFMC &lt;chr&gt; | DMC &lt;chr&gt; | DC &lt;chr&gt; | ISI &lt;chr&gt; | BUI &lt;chr&gt; | FWI &lt;chr&gt; | Classes &lt;chr&gt; |\n",
       "|---|---|---|---|---|---|---|---|---|---|---|---|---|---|---|\n",
       "| 1 | 01 | 06 | 2012 | 29 | 57 | 18 | 0    | 65.7 | 3.4 | 7.6  | 1.3 | 3.4 | 0.5 | not fire    |\n",
       "| 2 | 02 | 06 | 2012 | 29 | 61 | 13 | 1.3  | 64.4 | 4.1 | 7.6  | 1   | 3.9 | 0.4 | not fire    |\n",
       "| 3 | 03 | 06 | 2012 | 26 | 82 | 22 | 13.1 | 47.1 | 2.5 | 7.1  | 0.3 | 2.7 | 0.1 | not fire    |\n",
       "| 4 | 04 | 06 | 2012 | 25 | 89 | 13 | 2.5  | 28.6 | 1.3 | 6.9  | 0   | 1.7 | 0   | not fire    |\n",
       "| 5 | 05 | 06 | 2012 | 27 | 77 | 16 | 0    | 64.8 | 3   | 14.2 | 1.2 | 3.9 | 0.5 | not fire    |\n",
       "| 6 | 06 | 06 | 2012 | 31 | 67 | 14 | 0    | 82.6 | 5.8 | 22.2 | 3.1 | 7   | 2.5 | fire        |\n",
       "\n"
      ],
      "text/plain": [
       "  day month year Temperature RH Ws Rain FFMC DMC DC   ISI BUI FWI Classes    \n",
       "1 01  06    2012 29          57 18 0    65.7 3.4 7.6  1.3 3.4 0.5 not fire   \n",
       "2 02  06    2012 29          61 13 1.3  64.4 4.1 7.6  1   3.9 0.4 not fire   \n",
       "3 03  06    2012 26          82 22 13.1 47.1 2.5 7.1  0.3 2.7 0.1 not fire   \n",
       "4 04  06    2012 25          89 13 2.5  28.6 1.3 6.9  0   1.7 0   not fire   \n",
       "5 05  06    2012 27          77 16 0    64.8 3   14.2 1.2 3.9 0.5 not fire   \n",
       "6 06  06    2012 31          67 14 0    82.6 5.8 22.2 3.1 7   2.5 fire       "
      ]
     },
     "metadata": {},
     "output_type": "display_data"
    }
   ],
   "source": [
    "forest_fire_data_raw <- read.csv(\"https://archive.ics.uci.edu/ml/machine-learning-databases/00547/Algerian_forest_fires_dataset_UPDATE.csv\", skip = 1)\n",
    "head(forest_fire_data_raw) #previewing the first 6 rows of the dataset"
   ]
  },
  {
   "cell_type": "markdown",
   "metadata": {},
   "source": [
    "2) Cleaning and Wrangling the Data into a Tidy Format\n",
    "\n",
    "* The data is not in a tidy form as the data actually contains two regions of observations. Rows 1-122 are observations for the Bejaia Region, while rows 125 to 246 are for the Sidi-Bel Abbes Region (rows 123 and 124 contain column headers). To tidy this, an extra column called \"region\" will be created. After this all observations will be tidy, as they are split into individual rows, each column is a single variable and each value is in a single cell.\n",
    "* We also noticed that for the 14/07/2012 data point (row 166 for the forest_fire_data_tidy dataframe) in the Sidi-Bel Abbes Region, the original dataset had a typo in it, where they forgot the delim between the ISI and BUI columns. To fix this, we removed that datapoint and replaced it with one that is correctly written (but did not change the values).\n",
    "* Additionally, to make the data more usable, we decided to convert some of the columns from characters to factors (Classes) and numeric values (Temperature:FWI)."
   ]
  },
  {
   "cell_type": "code",
   "execution_count": 13,
   "metadata": {},
   "outputs": [
    {
     "data": {
      "text/html": [
       "<table>\n",
       "<caption>A data.frame: 244 × 15</caption>\n",
       "<thead>\n",
       "\t<tr><th scope=col>day</th><th scope=col>month</th><th scope=col>year</th><th scope=col>Temperature</th><th scope=col>RH</th><th scope=col>Ws</th><th scope=col>Rain</th><th scope=col>FFMC</th><th scope=col>DMC</th><th scope=col>DC</th><th scope=col>ISI</th><th scope=col>BUI</th><th scope=col>FWI</th><th scope=col>Classes</th><th scope=col>region</th></tr>\n",
       "\t<tr><th scope=col>&lt;chr&gt;</th><th scope=col>&lt;chr&gt;</th><th scope=col>&lt;chr&gt;</th><th scope=col>&lt;dbl&gt;</th><th scope=col>&lt;dbl&gt;</th><th scope=col>&lt;dbl&gt;</th><th scope=col>&lt;dbl&gt;</th><th scope=col>&lt;dbl&gt;</th><th scope=col>&lt;dbl&gt;</th><th scope=col>&lt;dbl&gt;</th><th scope=col>&lt;dbl&gt;</th><th scope=col>&lt;dbl&gt;</th><th scope=col>&lt;dbl&gt;</th><th scope=col>&lt;fct&gt;</th><th scope=col>&lt;chr&gt;</th></tr>\n",
       "</thead>\n",
       "<tbody>\n",
       "\t<tr><td>01</td><td>06</td><td>2012</td><td>29</td><td>57</td><td>18</td><td> 0.0</td><td>65.7</td><td>3.4</td><td>7.6</td><td>1.3</td><td>3.4</td><td>0.5</td><td>not fire</td><td>Bejaia</td></tr>\n",
       "\t<tr><td>02</td><td>06</td><td>2012</td><td>29</td><td>61</td><td>13</td><td> 1.3</td><td>64.4</td><td>4.1</td><td>7.6</td><td>1.0</td><td>3.9</td><td>0.4</td><td>not fire</td><td>Bejaia</td></tr>\n",
       "\t<tr><td>03</td><td>06</td><td>2012</td><td>26</td><td>82</td><td>22</td><td>13.1</td><td>47.1</td><td>2.5</td><td>7.1</td><td>0.3</td><td>2.7</td><td>0.1</td><td>not fire</td><td>Bejaia</td></tr>\n",
       "\t<tr><td>⋮</td><td>⋮</td><td>⋮</td><td>⋮</td><td>⋮</td><td>⋮</td><td>⋮</td><td>⋮</td><td>⋮</td><td>⋮</td><td>⋮</td><td>⋮</td><td>⋮</td><td>⋮</td><td>⋮</td></tr>\n",
       "\t<tr><td>29</td><td>09</td><td>2012</td><td>24</td><td>54</td><td>18</td><td>0.1</td><td>79.7</td><td> 4.3</td><td>15.2</td><td>1.7</td><td> 5.1</td><td> 0.7</td><td>not fire</td><td>Sidi-Bel_Abbes</td></tr>\n",
       "\t<tr><td>30</td><td>09</td><td>2012</td><td>24</td><td>64</td><td>15</td><td>0.2</td><td>67.3</td><td> 3.8</td><td>16.5</td><td>1.2</td><td> 4.8</td><td> 0.5</td><td>not fire</td><td>Sidi-Bel_Abbes</td></tr>\n",
       "\t<tr><td>14</td><td>07</td><td>2012</td><td>37</td><td>37</td><td>18</td><td>0.2</td><td>88.9</td><td>12.9</td><td>14.6</td><td>9.0</td><td>12.5</td><td>10.4</td><td>fire    </td><td>Sidi-Bel_Abbes</td></tr>\n",
       "</tbody>\n",
       "</table>\n"
      ],
      "text/latex": [
       "A data.frame: 244 × 15\n",
       "\\begin{tabular}{lllllllllllllll}\n",
       " day & month & year & Temperature & RH & Ws & Rain & FFMC & DMC & DC & ISI & BUI & FWI & Classes & region\\\\\n",
       " <chr> & <chr> & <chr> & <dbl> & <dbl> & <dbl> & <dbl> & <dbl> & <dbl> & <dbl> & <dbl> & <dbl> & <dbl> & <fct> & <chr>\\\\\n",
       "\\hline\n",
       "\t 01 & 06 & 2012 & 29 & 57 & 18 &  0.0 & 65.7 & 3.4 & 7.6 & 1.3 & 3.4 & 0.5 & not fire & Bejaia\\\\\n",
       "\t 02 & 06 & 2012 & 29 & 61 & 13 &  1.3 & 64.4 & 4.1 & 7.6 & 1.0 & 3.9 & 0.4 & not fire & Bejaia\\\\\n",
       "\t 03 & 06 & 2012 & 26 & 82 & 22 & 13.1 & 47.1 & 2.5 & 7.1 & 0.3 & 2.7 & 0.1 & not fire & Bejaia\\\\\n",
       "\t ⋮ & ⋮ & ⋮ & ⋮ & ⋮ & ⋮ & ⋮ & ⋮ & ⋮ & ⋮ & ⋮ & ⋮ & ⋮ & ⋮ & ⋮\\\\\n",
       "\t 29 & 09 & 2012 & 24 & 54 & 18 & 0.1 & 79.7 &  4.3 & 15.2 & 1.7 &  5.1 &  0.7 & not fire & Sidi-Bel\\_Abbes\\\\\n",
       "\t 30 & 09 & 2012 & 24 & 64 & 15 & 0.2 & 67.3 &  3.8 & 16.5 & 1.2 &  4.8 &  0.5 & not fire & Sidi-Bel\\_Abbes\\\\\n",
       "\t 14 & 07 & 2012 & 37 & 37 & 18 & 0.2 & 88.9 & 12.9 & 14.6 & 9.0 & 12.5 & 10.4 & fire     & Sidi-Bel\\_Abbes\\\\\n",
       "\\end{tabular}\n"
      ],
      "text/markdown": [
       "\n",
       "A data.frame: 244 × 15\n",
       "\n",
       "| day &lt;chr&gt; | month &lt;chr&gt; | year &lt;chr&gt; | Temperature &lt;dbl&gt; | RH &lt;dbl&gt; | Ws &lt;dbl&gt; | Rain &lt;dbl&gt; | FFMC &lt;dbl&gt; | DMC &lt;dbl&gt; | DC &lt;dbl&gt; | ISI &lt;dbl&gt; | BUI &lt;dbl&gt; | FWI &lt;dbl&gt; | Classes &lt;fct&gt; | region &lt;chr&gt; |\n",
       "|---|---|---|---|---|---|---|---|---|---|---|---|---|---|---|\n",
       "| 01 | 06 | 2012 | 29 | 57 | 18 |  0.0 | 65.7 | 3.4 | 7.6 | 1.3 | 3.4 | 0.5 | not fire | Bejaia |\n",
       "| 02 | 06 | 2012 | 29 | 61 | 13 |  1.3 | 64.4 | 4.1 | 7.6 | 1.0 | 3.9 | 0.4 | not fire | Bejaia |\n",
       "| 03 | 06 | 2012 | 26 | 82 | 22 | 13.1 | 47.1 | 2.5 | 7.1 | 0.3 | 2.7 | 0.1 | not fire | Bejaia |\n",
       "| ⋮ | ⋮ | ⋮ | ⋮ | ⋮ | ⋮ | ⋮ | ⋮ | ⋮ | ⋮ | ⋮ | ⋮ | ⋮ | ⋮ | ⋮ |\n",
       "| 29 | 09 | 2012 | 24 | 54 | 18 | 0.1 | 79.7 |  4.3 | 15.2 | 1.7 |  5.1 |  0.7 | not fire | Sidi-Bel_Abbes |\n",
       "| 30 | 09 | 2012 | 24 | 64 | 15 | 0.2 | 67.3 |  3.8 | 16.5 | 1.2 |  4.8 |  0.5 | not fire | Sidi-Bel_Abbes |\n",
       "| 14 | 07 | 2012 | 37 | 37 | 18 | 0.2 | 88.9 | 12.9 | 14.6 | 9.0 | 12.5 | 10.4 | fire     | Sidi-Bel_Abbes |\n",
       "\n"
      ],
      "text/plain": [
       "    day month year Temperature RH Ws Rain FFMC DMC  DC   ISI BUI  FWI  Classes \n",
       "1   01  06    2012 29          57 18  0.0 65.7 3.4  7.6  1.3 3.4  0.5  not fire\n",
       "2   02  06    2012 29          61 13  1.3 64.4 4.1  7.6  1.0 3.9  0.4  not fire\n",
       "3   03  06    2012 26          82 22 13.1 47.1 2.5  7.1  0.3 2.7  0.1  not fire\n",
       "⋮   ⋮   ⋮     ⋮    ⋮           ⋮  ⋮  ⋮    ⋮    ⋮    ⋮    ⋮   ⋮    ⋮    ⋮       \n",
       "242 29  09    2012 24          54 18 0.1  79.7  4.3 15.2 1.7  5.1  0.7 not fire\n",
       "243 30  09    2012 24          64 15 0.2  67.3  3.8 16.5 1.2  4.8  0.5 not fire\n",
       "244 14  07    2012 37          37 18 0.2  88.9 12.9 14.6 9.0 12.5 10.4 fire    \n",
       "    region        \n",
       "1   Bejaia        \n",
       "2   Bejaia        \n",
       "3   Bejaia        \n",
       "⋮   ⋮             \n",
       "242 Sidi-Bel_Abbes\n",
       "243 Sidi-Bel_Abbes\n",
       "244 Sidi-Bel_Abbes"
      ]
     },
     "metadata": {},
     "output_type": "display_data"
    }
   ],
   "source": [
    "forest_fire_data_collect <- collect(forest_fire_data_raw) # We first collected the tables from the web to be able to work with them more easily.\n",
    "\n",
    "forest_fire_data_bejaia <- forest_fire_data_collect %>% # We then seperated out the Bejaia Region and created a new \"regions\" column.\n",
    "    slice(1:122) %>%\n",
    "    mutate(region = \"Bejaia\")\n",
    "\n",
    "forest_fire_data_sidibel <- forest_fire_data_collect %>% # We then seperated out the Sidi-Bel Abbes Region and created a new \"regions\" column.\n",
    "    slice(125:246) %>%\n",
    "    mutate(region = \"Sidi-Bel_Abbes\")\n",
    "\n",
    "forest_fire_data_tidy <- rbind(forest_fire_data_bejaia,forest_fire_data_sidibel) # Combining the two tables produced above.\n",
    "\n",
    "forest_fire_fix <- forest_fire_data_tidy %>% # Fixing the broken row for 14/07/2012 observation.\n",
    "    slice(-166) %>%\n",
    "    add_row(day = \"14\", month = \"07\", year = \"2012\", Temperature = \"37\",RH = \"37\",Ws = \"18\",Rain = \"0.2\",FFMC = \"88.9\",DMC = \"12.9\",DC = \"14.6\",ISI = \"9\", BUI = \"12.5\", FWI = \"10.4\", Classes = \"fire\",region = \"Sidi-Bel_Abbes\")\n",
    "\n",
    "forest_fire_data_mutated <- forest_fire_fix %>% # Mutating the numeric values into as.numerics. \n",
    "    mutate(Temperature = as.numeric(Temperature),\n",
    "           RH = as.numeric(RH),\n",
    "           Ws = as.numeric(Ws),\n",
    "           Rain = as.numeric(Rain),\n",
    "           FFMC = as.numeric(FFMC),\n",
    "           DMC = as.numeric(DMC),\n",
    "           DC = as.numeric(DC),\n",
    "           ISI = as.numeric(ISI),\n",
    "           BUI = as.numeric(BUI),\n",
    "           FWI = as.numeric(FWI))\n",
    "\n",
    "forest_fire_categories <- forest_fire_data_mutated %>% # Grouping the Classes column into just \"fire\" and \"not fire.\" Converting the Classes column into a factor.\n",
    "    mutate(Classes = ifelse(Classes == \"fire\" | Classes == \"fire   \" | Classes == \"fire \"| Classes == \"fire  \"|Classes == \"fire   \", \"fire\", \"not fire\")) %>%\n",
    "    mutate(Classes = as.factor(Classes))\n",
    "\n",
    "forest_fire_categories"
   ]
  },
  {
   "cell_type": "markdown",
   "metadata": {},
   "source": [
    "### Extracting Training Data\n",
    "* 75% of the data was used as training data in this analysis"
   ]
  },
  {
   "cell_type": "code",
   "execution_count": 14,
   "metadata": {},
   "outputs": [],
   "source": [
    "forest_split <- initial_split(forest_fire_categories, prop = 0.75, strata = Classes) # Splitting the data with 75% for training and 25% for testing.\n",
    "forest_fire_training <- training(forest_split)   \n",
    "forest_fire_testing <- testing(forest_split)"
   ]
  },
  {
   "cell_type": "markdown",
   "metadata": {},
   "source": [
    "3) Creating a Summary Table\n",
    "\n",
    "* We wanted to create a summary table that showed the number of observations in both the \"fire\" and \"not fire\" classes that we are using as well as the means of the predictor variables we plan to use (Temperature:Rain)."
   ]
  },
  {
   "cell_type": "code",
   "execution_count": 7,
   "metadata": {},
   "outputs": [
    {
     "ename": "ERROR",
     "evalue": "Error: Problem with `summarise()` input `mean_rain`.\n\u001b[31m✖\u001b[39m object 'rain' not found\n\u001b[34mℹ\u001b[39m Input `mean_rain` is `mean(rain)`.\n\u001b[34mℹ\u001b[39m The error occurred in group 1: Temperature = 22, RH = 76, Ws = 26, Rain = 8.3.\n",
     "output_type": "error",
     "traceback": [
      "Error: Problem with `summarise()` input `mean_rain`.\n\u001b[31m✖\u001b[39m object 'rain' not found\n\u001b[34mℹ\u001b[39m Input `mean_rain` is `mean(rain)`.\n\u001b[34mℹ\u001b[39m The error occurred in group 1: Temperature = 22, RH = 76, Ws = 26, Rain = 8.3.\nTraceback:\n",
      "1. forest_fire_training %>% group_by(Temperature, RH, Ws, Rain) %>% \n .     summarize(mean_temp = mean(Temperature), mean_RH = mean(RH), \n .         mean_Ws = mean(Ws), mean_rain = mean(rain))",
      "2. withVisible(eval(quote(`_fseq`(`_lhs`)), env, env))",
      "3. eval(quote(`_fseq`(`_lhs`)), env, env)",
      "4. eval(quote(`_fseq`(`_lhs`)), env, env)",
      "5. `_fseq`(`_lhs`)",
      "6. freduce(value, `_function_list`)",
      "7. withVisible(function_list[[k]](value))",
      "8. function_list[[k]](value)",
      "9. summarize(., mean_temp = mean(Temperature), mean_RH = mean(RH), \n .     mean_Ws = mean(Ws), mean_rain = mean(rain))",
      "10. summarise.grouped_df(., mean_temp = mean(Temperature), mean_RH = mean(RH), \n  .     mean_Ws = mean(Ws), mean_rain = mean(rain))",
      "11. summarise_cols(.data, ...)",
      "12. withCallingHandlers({\n  .     for (i in seq_along(dots)) {\n  .         quo <- dots[[i]]\n  .         chunks[[i]] <- mask$eval_all_summarise(quo)\n  .         mask$across_cache_reset()\n  .         result_type <- types[[i]] <- withCallingHandlers(vec_ptype_common(!!!chunks[[i]]), \n  .             vctrs_error_incompatible_type = function(cnd) {\n  .                 abort(class = \"dplyr:::error_summarise_incompatible_combine\", \n  .                   parent = cnd)\n  .             })\n  .         if ((is.null(dots_names) || dots_names[i] == \"\") && is.data.frame(result_type)) {\n  .             map2(seq_along(result_type), names(result_type), \n  .                 function(j, nm) {\n  .                   mask$add(nm, pluck(chunks[[i]], j))\n  .                 })\n  .         }\n  .         else {\n  .             mask$add(auto_named_dots[i], chunks[[i]])\n  .         }\n  .     }\n  .     recycle_info <- .Call(dplyr_summarise_recycle_chunks, chunks, \n  .         mask$get_rows(), types)\n  .     chunks <- recycle_info$chunks\n  .     sizes <- recycle_info$sizes\n  .     for (i in seq_along(dots)) {\n  .         result <- vec_c(!!!chunks[[i]], .ptype = types[[i]])\n  .         if ((is.null(dots_names) || dots_names[i] == \"\") && is.data.frame(result)) {\n  .             cols[names(result)] <- result\n  .         }\n  .         else {\n  .             cols[[auto_named_dots[i]]] <- result\n  .         }\n  .     }\n  . }, error = function(e) {\n  .     local_call_step(dots = dots, .index = i, .fn = \"summarise\", \n  .         .dot_data = inherits(e, \"rlang_error_data_pronoun_not_found\"))\n  .     call_step <- peek_call_step()\n  .     error_name <- call_step$error_name\n  .     if (inherits(e, \"dplyr:::error_summarise_incompatible_combine\")) {\n  .         bullets <- c(x = glue(\"Input `{error_name}` must return compatible vectors across groups\", \n  .             .envir = peek_call_step()), i = cnd_bullet_combine_details(e$parent$x, \n  .             e$parent$x_arg), i = cnd_bullet_combine_details(e$parent$y, \n  .             e$parent$y_arg))\n  .     }\n  .     else if (inherits(e, \"dplyr:::summarise_unsupported_type\")) {\n  .         bullets <- c(x = glue(\"Input `{error_name}` must be a vector, not {friendly_type_of(result)}.\", \n  .             result = e$result), i = cnd_bullet_rowwise_unlist())\n  .     }\n  .     else if (inherits(e, \"dplyr:::summarise_incompatible_size\")) {\n  .         peek_mask()$set_current_group(e$group)\n  .         bullets <- c(x = glue(\"Input `{error_name}` must be size {or_1(expected_size)}, not {size}.\", \n  .             expected_size = e$expected_size, size = e$size), \n  .             i = glue(\"An earlier column had size {expected_size}.\", \n  .                 expected_size = e$expected_size))\n  .     }\n  .     else {\n  .         bullets <- c(x = conditionMessage(e))\n  .     }\n  .     bullets <- c(cnd_bullet_header(), bullets, i = cnd_bullet_input_info())\n  .     if (!inherits(e, \"dplyr:::error_summarise_incompatible_combine\")) {\n  .         bullets <- c(bullets, i = cnd_bullet_cur_group_label())\n  .     }\n  .     abort(bullets, class = \"dplyr_error\")\n  . })",
      "13. mask$eval_all_summarise(quo)",
      "14. mean(rain)",
      "15. .handleSimpleError(function (e) \n  . {\n  .     local_call_step(dots = dots, .index = i, .fn = \"summarise\", \n  .         .dot_data = inherits(e, \"rlang_error_data_pronoun_not_found\"))\n  .     call_step <- peek_call_step()\n  .     error_name <- call_step$error_name\n  .     if (inherits(e, \"dplyr:::error_summarise_incompatible_combine\")) {\n  .         bullets <- c(x = glue(\"Input `{error_name}` must return compatible vectors across groups\", \n  .             .envir = peek_call_step()), i = cnd_bullet_combine_details(e$parent$x, \n  .             e$parent$x_arg), i = cnd_bullet_combine_details(e$parent$y, \n  .             e$parent$y_arg))\n  .     }\n  .     else if (inherits(e, \"dplyr:::summarise_unsupported_type\")) {\n  .         bullets <- c(x = glue(\"Input `{error_name}` must be a vector, not {friendly_type_of(result)}.\", \n  .             result = e$result), i = cnd_bullet_rowwise_unlist())\n  .     }\n  .     else if (inherits(e, \"dplyr:::summarise_incompatible_size\")) {\n  .         peek_mask()$set_current_group(e$group)\n  .         bullets <- c(x = glue(\"Input `{error_name}` must be size {or_1(expected_size)}, not {size}.\", \n  .             expected_size = e$expected_size, size = e$size), \n  .             i = glue(\"An earlier column had size {expected_size}.\", \n  .                 expected_size = e$expected_size))\n  .     }\n  .     else {\n  .         bullets <- c(x = conditionMessage(e))\n  .     }\n  .     bullets <- c(cnd_bullet_header(), bullets, i = cnd_bullet_input_info())\n  .     if (!inherits(e, \"dplyr:::error_summarise_incompatible_combine\")) {\n  .         bullets <- c(bullets, i = cnd_bullet_cur_group_label())\n  .     }\n  .     abort(bullets, class = \"dplyr_error\")\n  . }, \"object 'rain' not found\", base::quote(mean(rain)))",
      "16. h(simpleError(msg, call))",
      "17. abort(bullets, class = \"dplyr_error\")",
      "18. signal_abort(cnd)"
     ]
    }
   ],
   "source": [
    "forest_fire_means <- forest_fire_training %>%\n",
    "    group_by(Temperature, RH, Ws, Rain) %>%\n",
    "    summarize(mean_temp = mean(Temperature),\n",
    "             mean_RH = mean(RH),\n",
    "             mean_Ws = mean(Ws),\n",
    "             mean_rain = mean(rain))\n",
    "    \n",
    "forest_fire_means\n",
    "\n",
    "\n",
    "# forest_fire_summary <- forest_fire_training %>%\n",
    "#     group_by(Classes) %>%\n",
    "#     summarize(n = n()) \n",
    "\n",
    "# forest_fire_summary"
   ]
  },
  {
   "cell_type": "markdown",
   "metadata": {},
   "source": [
    "### Expected Outcomes and Significance:\n",
    "\n",
    "We expect to find that days where there are reported fires have: little to no rain; lower relative humidity; higher temperature; and higher FWI values. Accurate predictions would allow us to better prepare and equip firefighters for forest fires as well as lead to quicker evacuations and extinguishing of fires. This might lead us to new questions, such as whether it is possible to predict the magnitude or scale of a forest fire based on weather conditions. This question can lead us to predict what resources are necessary to combat the fire in advance and assess a general size or radius that would require evacuations.\n"
   ]
  },
  {
   "cell_type": "code",
   "execution_count": null,
   "metadata": {},
   "outputs": [],
   "source": []
  }
 ],
 "metadata": {
  "kernelspec": {
   "display_name": "R",
   "language": "R",
   "name": "ir"
  },
  "language_info": {
   "codemirror_mode": "r",
   "file_extension": ".r",
   "mimetype": "text/x-r-source",
   "name": "R",
   "pygments_lexer": "r",
   "version": "4.0.0"
  }
 },
 "nbformat": 4,
 "nbformat_minor": 4
}
